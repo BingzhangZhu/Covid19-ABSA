{
 "cells": [
  {
   "cell_type": "code",
   "execution_count": 147,
   "metadata": {
    "ExecuteTime": {
     "end_time": "2021-12-11T00:09:21.495245Z",
     "start_time": "2021-12-11T00:09:21.488214Z"
    }
   },
   "outputs": [],
   "source": [
    "import pandas as pd"
   ]
  },
  {
   "cell_type": "code",
   "execution_count": 155,
   "metadata": {
    "ExecuteTime": {
     "end_time": "2021-12-11T00:11:23.928616Z",
     "start_time": "2021-12-11T00:11:23.879221Z"
    }
   },
   "outputs": [],
   "source": [
    "df = pd.read_csv(\"./pred_target.csv\")\n",
    "cols=['id','target','predict','aspect','text']\n",
    "df.rename(columns=dict(zip(df.columns,cols)), inplace=True)\n",
    "df['correct'] = df['target']==df['predict']\n",
    "df['asp'] = df['aspect'].apply(lambda x:x.split('-')[1].strip())\n",
    "aspects = df['asp'].drop_duplicates()\n",
    "sentiment = list( df[ df['target']==1]['aspect'].apply(lambda x:x.split('-')[0].strip()))"
   ]
  },
  {
   "cell_type": "code",
   "execution_count": 162,
   "metadata": {
    "ExecuteTime": {
     "end_time": "2021-12-11T00:12:45.220953Z",
     "start_time": "2021-12-11T00:12:44.552744Z"
    }
   },
   "outputs": [],
   "source": [
    "lst=[]\n",
    "flag=True\n",
    "for idx,row_ in enumerate(df.iterrows()):\n",
    "    row=row_[1]\n",
    "    if row['target']!=row['predict']:\n",
    "        flag=False\n",
    "    if (idx+1)%4==0:\n",
    "        lst.append(flag)\n",
    "        flag=True\n",
    "    else:\n",
    "        lst.append(None)\n",
    "df['tag']=lst"
   ]
  },
  {
   "cell_type": "code",
   "execution_count": 163,
   "metadata": {
    "ExecuteTime": {
     "end_time": "2021-12-11T00:12:53.612818Z",
     "start_time": "2021-12-11T00:12:53.603919Z"
    }
   },
   "outputs": [],
   "source": [
    "df_=df[['id','asp','tag','text']]\n",
    "df_=df_.dropna()"
   ]
  },
  {
   "cell_type": "code",
   "execution_count": 174,
   "metadata": {
    "ExecuteTime": {
     "end_time": "2021-12-11T00:16:32.126588Z",
     "start_time": "2021-12-11T00:16:32.118665Z"
    }
   },
   "outputs": [],
   "source": [
    "df_['aspects'] = df_['asp']+\" - \"+df_['sentiment']"
   ]
  },
  {
   "cell_type": "code",
   "execution_count": 175,
   "metadata": {
    "ExecuteTime": {
     "end_time": "2021-12-11T00:16:38.518126Z",
     "start_time": "2021-12-11T00:16:38.498327Z"
    }
   },
   "outputs": [
    {
     "data": {
      "text/html": [
       "<div>\n",
       "<style scoped>\n",
       "    .dataframe tbody tr th:only-of-type {\n",
       "        vertical-align: middle;\n",
       "    }\n",
       "\n",
       "    .dataframe tbody tr th {\n",
       "        vertical-align: top;\n",
       "    }\n",
       "\n",
       "    .dataframe thead th {\n",
       "        text-align: right;\n",
       "    }\n",
       "</style>\n",
       "<table border=\"1\" class=\"dataframe\">\n",
       "  <thead>\n",
       "    <tr style=\"text-align: right;\">\n",
       "      <th></th>\n",
       "      <th>id</th>\n",
       "      <th>asp</th>\n",
       "      <th>tag</th>\n",
       "      <th>text</th>\n",
       "      <th>sentiment</th>\n",
       "      <th>aspects</th>\n",
       "    </tr>\n",
       "  </thead>\n",
       "  <tbody>\n",
       "    <tr>\n",
       "      <th>3</th>\n",
       "      <td>1229853968957833216</td>\n",
       "      <td>politics</td>\n",
       "      <td>True</td>\n",
       "      <td>Self-driving technology + road roller! #CSCEC ...</td>\n",
       "      <td>unrelated</td>\n",
       "      <td>politics - unrelated</td>\n",
       "    </tr>\n",
       "    <tr>\n",
       "      <th>7</th>\n",
       "      <td>1229853968957833216</td>\n",
       "      <td>economy</td>\n",
       "      <td>True</td>\n",
       "      <td>Self-driving technology + road roller! #CSCEC ...</td>\n",
       "      <td>unrelated</td>\n",
       "      <td>economy - unrelated</td>\n",
       "    </tr>\n",
       "    <tr>\n",
       "      <th>11</th>\n",
       "      <td>1229853968957833216</td>\n",
       "      <td>foreign</td>\n",
       "      <td>True</td>\n",
       "      <td>Self-driving technology + road roller! #CSCEC ...</td>\n",
       "      <td>unrelated</td>\n",
       "      <td>foreign - unrelated</td>\n",
       "    </tr>\n",
       "    <tr>\n",
       "      <th>15</th>\n",
       "      <td>1229853968957833216</td>\n",
       "      <td>culture</td>\n",
       "      <td>True</td>\n",
       "      <td>Self-driving technology + road roller! #CSCEC ...</td>\n",
       "      <td>unrelated</td>\n",
       "      <td>culture - unrelated</td>\n",
       "    </tr>\n",
       "    <tr>\n",
       "      <th>19</th>\n",
       "      <td>1229853968957833216</td>\n",
       "      <td>situation</td>\n",
       "      <td>True</td>\n",
       "      <td>Self-driving technology + road roller! #CSCEC ...</td>\n",
       "      <td>unrelated</td>\n",
       "      <td>situation - unrelated</td>\n",
       "    </tr>\n",
       "    <tr>\n",
       "      <th>...</th>\n",
       "      <td>...</td>\n",
       "      <td>...</td>\n",
       "      <td>...</td>\n",
       "      <td>...</td>\n",
       "      <td>...</td>\n",
       "      <td>...</td>\n",
       "    </tr>\n",
       "    <tr>\n",
       "      <th>8495</th>\n",
       "      <td>1233983941692076032</td>\n",
       "      <td>culture</td>\n",
       "      <td>True</td>\n",
       "      <td>This very crafty Beijing taxi driver construct...</td>\n",
       "      <td>unrelated</td>\n",
       "      <td>culture - unrelated</td>\n",
       "    </tr>\n",
       "    <tr>\n",
       "      <th>8499</th>\n",
       "      <td>1233983941692076032</td>\n",
       "      <td>situation</td>\n",
       "      <td>True</td>\n",
       "      <td>This very crafty Beijing taxi driver construct...</td>\n",
       "      <td>unrelated</td>\n",
       "      <td>situation - unrelated</td>\n",
       "    </tr>\n",
       "    <tr>\n",
       "      <th>8503</th>\n",
       "      <td>1233983941692076032</td>\n",
       "      <td>measures</td>\n",
       "      <td>False</td>\n",
       "      <td>This very crafty Beijing taxi driver construct...</td>\n",
       "      <td>neutral</td>\n",
       "      <td>measures - neutral</td>\n",
       "    </tr>\n",
       "    <tr>\n",
       "      <th>8507</th>\n",
       "      <td>1233983941692076032</td>\n",
       "      <td>racism</td>\n",
       "      <td>True</td>\n",
       "      <td>This very crafty Beijing taxi driver construct...</td>\n",
       "      <td>unrelated</td>\n",
       "      <td>racism - unrelated</td>\n",
       "    </tr>\n",
       "    <tr>\n",
       "      <th>8511</th>\n",
       "      <td>1233983941692076032</td>\n",
       "      <td>overall</td>\n",
       "      <td>False</td>\n",
       "      <td>This very crafty Beijing taxi driver construct...</td>\n",
       "      <td>neutral</td>\n",
       "      <td>overall - neutral</td>\n",
       "    </tr>\n",
       "  </tbody>\n",
       "</table>\n",
       "<p>2128 rows × 6 columns</p>\n",
       "</div>"
      ],
      "text/plain": [
       "                       id        asp    tag  \\\n",
       "3     1229853968957833216   politics   True   \n",
       "7     1229853968957833216    economy   True   \n",
       "11    1229853968957833216    foreign   True   \n",
       "15    1229853968957833216    culture   True   \n",
       "19    1229853968957833216  situation   True   \n",
       "...                   ...        ...    ...   \n",
       "8495  1233983941692076032    culture   True   \n",
       "8499  1233983941692076032  situation   True   \n",
       "8503  1233983941692076032   measures  False   \n",
       "8507  1233983941692076032     racism   True   \n",
       "8511  1233983941692076032    overall  False   \n",
       "\n",
       "                                                   text  sentiment  \\\n",
       "3     Self-driving technology + road roller! #CSCEC ...  unrelated   \n",
       "7     Self-driving technology + road roller! #CSCEC ...  unrelated   \n",
       "11    Self-driving technology + road roller! #CSCEC ...  unrelated   \n",
       "15    Self-driving technology + road roller! #CSCEC ...  unrelated   \n",
       "19    Self-driving technology + road roller! #CSCEC ...  unrelated   \n",
       "...                                                 ...        ...   \n",
       "8495  This very crafty Beijing taxi driver construct...  unrelated   \n",
       "8499  This very crafty Beijing taxi driver construct...  unrelated   \n",
       "8503  This very crafty Beijing taxi driver construct...    neutral   \n",
       "8507  This very crafty Beijing taxi driver construct...  unrelated   \n",
       "8511  This very crafty Beijing taxi driver construct...    neutral   \n",
       "\n",
       "                    aspects  \n",
       "3      politics - unrelated  \n",
       "7       economy - unrelated  \n",
       "11      foreign - unrelated  \n",
       "15      culture - unrelated  \n",
       "19    situation - unrelated  \n",
       "...                     ...  \n",
       "8495    culture - unrelated  \n",
       "8499  situation - unrelated  \n",
       "8503     measures - neutral  \n",
       "8507     racism - unrelated  \n",
       "8511      overall - neutral  \n",
       "\n",
       "[2128 rows x 6 columns]"
      ]
     },
     "execution_count": 175,
     "metadata": {},
     "output_type": "execute_result"
    }
   ],
   "source": [
    "df_"
   ]
  },
  {
   "cell_type": "code",
   "execution_count": 168,
   "metadata": {
    "ExecuteTime": {
     "end_time": "2021-12-11T00:14:03.726968Z",
     "start_time": "2021-12-11T00:14:03.721919Z"
    }
   },
   "outputs": [],
   "source": [
    "df_['sentiment']=sentiment"
   ]
  },
  {
   "cell_type": "code",
   "execution_count": 169,
   "metadata": {
    "ExecuteTime": {
     "end_time": "2021-12-11T00:14:07.014913Z",
     "start_time": "2021-12-11T00:14:06.991182Z"
    }
   },
   "outputs": [
    {
     "data": {
      "text/html": [
       "<div>\n",
       "<style scoped>\n",
       "    .dataframe tbody tr th:only-of-type {\n",
       "        vertical-align: middle;\n",
       "    }\n",
       "\n",
       "    .dataframe tbody tr th {\n",
       "        vertical-align: top;\n",
       "    }\n",
       "\n",
       "    .dataframe thead th {\n",
       "        text-align: right;\n",
       "    }\n",
       "</style>\n",
       "<table border=\"1\" class=\"dataframe\">\n",
       "  <thead>\n",
       "    <tr style=\"text-align: right;\">\n",
       "      <th></th>\n",
       "      <th>id</th>\n",
       "      <th>asp</th>\n",
       "      <th>tag</th>\n",
       "      <th>text</th>\n",
       "      <th>sentiment</th>\n",
       "    </tr>\n",
       "  </thead>\n",
       "  <tbody>\n",
       "    <tr>\n",
       "      <th>3</th>\n",
       "      <td>1229853968957833216</td>\n",
       "      <td>politics</td>\n",
       "      <td>True</td>\n",
       "      <td>Self-driving technology + road roller! #CSCEC ...</td>\n",
       "      <td>unrelated</td>\n",
       "    </tr>\n",
       "    <tr>\n",
       "      <th>7</th>\n",
       "      <td>1229853968957833216</td>\n",
       "      <td>economy</td>\n",
       "      <td>True</td>\n",
       "      <td>Self-driving technology + road roller! #CSCEC ...</td>\n",
       "      <td>unrelated</td>\n",
       "    </tr>\n",
       "    <tr>\n",
       "      <th>11</th>\n",
       "      <td>1229853968957833216</td>\n",
       "      <td>foreign</td>\n",
       "      <td>True</td>\n",
       "      <td>Self-driving technology + road roller! #CSCEC ...</td>\n",
       "      <td>unrelated</td>\n",
       "    </tr>\n",
       "    <tr>\n",
       "      <th>15</th>\n",
       "      <td>1229853968957833216</td>\n",
       "      <td>culture</td>\n",
       "      <td>True</td>\n",
       "      <td>Self-driving technology + road roller! #CSCEC ...</td>\n",
       "      <td>unrelated</td>\n",
       "    </tr>\n",
       "    <tr>\n",
       "      <th>19</th>\n",
       "      <td>1229853968957833216</td>\n",
       "      <td>situation</td>\n",
       "      <td>True</td>\n",
       "      <td>Self-driving technology + road roller! #CSCEC ...</td>\n",
       "      <td>unrelated</td>\n",
       "    </tr>\n",
       "    <tr>\n",
       "      <th>...</th>\n",
       "      <td>...</td>\n",
       "      <td>...</td>\n",
       "      <td>...</td>\n",
       "      <td>...</td>\n",
       "      <td>...</td>\n",
       "    </tr>\n",
       "    <tr>\n",
       "      <th>8495</th>\n",
       "      <td>1233983941692076032</td>\n",
       "      <td>culture</td>\n",
       "      <td>True</td>\n",
       "      <td>This very crafty Beijing taxi driver construct...</td>\n",
       "      <td>unrelated</td>\n",
       "    </tr>\n",
       "    <tr>\n",
       "      <th>8499</th>\n",
       "      <td>1233983941692076032</td>\n",
       "      <td>situation</td>\n",
       "      <td>True</td>\n",
       "      <td>This very crafty Beijing taxi driver construct...</td>\n",
       "      <td>unrelated</td>\n",
       "    </tr>\n",
       "    <tr>\n",
       "      <th>8503</th>\n",
       "      <td>1233983941692076032</td>\n",
       "      <td>measures</td>\n",
       "      <td>False</td>\n",
       "      <td>This very crafty Beijing taxi driver construct...</td>\n",
       "      <td>neutral</td>\n",
       "    </tr>\n",
       "    <tr>\n",
       "      <th>8507</th>\n",
       "      <td>1233983941692076032</td>\n",
       "      <td>racism</td>\n",
       "      <td>True</td>\n",
       "      <td>This very crafty Beijing taxi driver construct...</td>\n",
       "      <td>unrelated</td>\n",
       "    </tr>\n",
       "    <tr>\n",
       "      <th>8511</th>\n",
       "      <td>1233983941692076032</td>\n",
       "      <td>overall</td>\n",
       "      <td>False</td>\n",
       "      <td>This very crafty Beijing taxi driver construct...</td>\n",
       "      <td>neutral</td>\n",
       "    </tr>\n",
       "  </tbody>\n",
       "</table>\n",
       "<p>2128 rows × 5 columns</p>\n",
       "</div>"
      ],
      "text/plain": [
       "                       id        asp    tag  \\\n",
       "3     1229853968957833216   politics   True   \n",
       "7     1229853968957833216    economy   True   \n",
       "11    1229853968957833216    foreign   True   \n",
       "15    1229853968957833216    culture   True   \n",
       "19    1229853968957833216  situation   True   \n",
       "...                   ...        ...    ...   \n",
       "8495  1233983941692076032    culture   True   \n",
       "8499  1233983941692076032  situation   True   \n",
       "8503  1233983941692076032   measures  False   \n",
       "8507  1233983941692076032     racism   True   \n",
       "8511  1233983941692076032    overall  False   \n",
       "\n",
       "                                                   text  sentiment  \n",
       "3     Self-driving technology + road roller! #CSCEC ...  unrelated  \n",
       "7     Self-driving technology + road roller! #CSCEC ...  unrelated  \n",
       "11    Self-driving technology + road roller! #CSCEC ...  unrelated  \n",
       "15    Self-driving technology + road roller! #CSCEC ...  unrelated  \n",
       "19    Self-driving technology + road roller! #CSCEC ...  unrelated  \n",
       "...                                                 ...        ...  \n",
       "8495  This very crafty Beijing taxi driver construct...  unrelated  \n",
       "8499  This very crafty Beijing taxi driver construct...  unrelated  \n",
       "8503  This very crafty Beijing taxi driver construct...    neutral  \n",
       "8507  This very crafty Beijing taxi driver construct...  unrelated  \n",
       "8511  This very crafty Beijing taxi driver construct...    neutral  \n",
       "\n",
       "[2128 rows x 5 columns]"
      ]
     },
     "execution_count": 169,
     "metadata": {},
     "output_type": "execute_result"
    }
   ],
   "source": []
  },
  {
   "cell_type": "code",
   "execution_count": 126,
   "metadata": {
    "ExecuteTime": {
     "end_time": "2021-12-11T00:06:40.492317Z",
     "start_time": "2021-12-11T00:06:40.484258Z"
    }
   },
   "outputs": [
    {
     "data": {
      "text/plain": [
       "2128"
      ]
     },
     "execution_count": 126,
     "metadata": {},
     "output_type": "execute_result"
    }
   ],
   "source": [
    "import numpy as np\n",
    "np_=np.array(sentiment)\n",
    "len(np_)"
   ]
  },
  {
   "cell_type": "code",
   "execution_count": 131,
   "metadata": {
    "ExecuteTime": {
     "end_time": "2021-12-11T00:07:15.754360Z",
     "start_time": "2021-12-11T00:07:15.720636Z"
    }
   },
   "outputs": [
    {
     "data": {
      "text/html": [
       "<div>\n",
       "<style scoped>\n",
       "    .dataframe tbody tr th:only-of-type {\n",
       "        vertical-align: middle;\n",
       "    }\n",
       "\n",
       "    .dataframe tbody tr th {\n",
       "        vertical-align: top;\n",
       "    }\n",
       "\n",
       "    .dataframe thead th {\n",
       "        text-align: right;\n",
       "    }\n",
       "</style>\n",
       "<table border=\"1\" class=\"dataframe\">\n",
       "  <thead>\n",
       "    <tr style=\"text-align: right;\">\n",
       "      <th></th>\n",
       "      <th>id</th>\n",
       "      <th>asp</th>\n",
       "      <th>tag</th>\n",
       "      <th>text</th>\n",
       "      <th>sentiment</th>\n",
       "    </tr>\n",
       "  </thead>\n",
       "  <tbody>\n",
       "    <tr>\n",
       "      <th>287</th>\n",
       "      <td>1.229724e+18</td>\n",
       "      <td>overall</td>\n",
       "      <td>True</td>\n",
       "      <td>Not all heroes wear Capes. Some wear Masks and...</td>\n",
       "      <td>positive</td>\n",
       "    </tr>\n",
       "    <tr>\n",
       "      <th>2555</th>\n",
       "      <td>1.225340e+18</td>\n",
       "      <td>racism</td>\n",
       "      <td>True</td>\n",
       "      <td>Coronavirus  Astounding piece of anti-Chinese ...</td>\n",
       "      <td>positive</td>\n",
       "    </tr>\n",
       "    <tr>\n",
       "      <th>2559</th>\n",
       "      <td>1.225340e+18</td>\n",
       "      <td>overall</td>\n",
       "      <td>True</td>\n",
       "      <td>Coronavirus  Astounding piece of anti-Chinese ...</td>\n",
       "      <td>positive</td>\n",
       "    </tr>\n",
       "    <tr>\n",
       "      <th>2583</th>\n",
       "      <td>1.238312e+18</td>\n",
       "      <td>measures</td>\n",
       "      <td>True</td>\n",
       "      <td>Interferon Alpha 2B: The Cuban drug used in Ch...</td>\n",
       "      <td>positive</td>\n",
       "    </tr>\n",
       "    <tr>\n",
       "      <th>2591</th>\n",
       "      <td>1.238312e+18</td>\n",
       "      <td>overall</td>\n",
       "      <td>True</td>\n",
       "      <td>Interferon Alpha 2B: The Cuban drug used in Ch...</td>\n",
       "      <td>positive</td>\n",
       "    </tr>\n",
       "    <tr>\n",
       "      <th>3039</th>\n",
       "      <td>1.223188e+18</td>\n",
       "      <td>overall</td>\n",
       "      <td>True</td>\n",
       "      <td>Coronavirus updates:  - More than 800 people h...</td>\n",
       "      <td>positive</td>\n",
       "    </tr>\n",
       "    <tr>\n",
       "      <th>3063</th>\n",
       "      <td>1.225313e+18</td>\n",
       "      <td>measures</td>\n",
       "      <td>True</td>\n",
       "      <td>If Indians receive requests from their friends...</td>\n",
       "      <td>positive</td>\n",
       "    </tr>\n",
       "    <tr>\n",
       "      <th>3071</th>\n",
       "      <td>1.225313e+18</td>\n",
       "      <td>overall</td>\n",
       "      <td>True</td>\n",
       "      <td>If Indians receive requests from their friends...</td>\n",
       "      <td>positive</td>\n",
       "    </tr>\n",
       "    <tr>\n",
       "      <th>4055</th>\n",
       "      <td>1.225186e+18</td>\n",
       "      <td>measures</td>\n",
       "      <td>True</td>\n",
       "      <td>Chinese medical workers have been working day ...</td>\n",
       "      <td>positive</td>\n",
       "    </tr>\n",
       "    <tr>\n",
       "      <th>4063</th>\n",
       "      <td>1.225186e+18</td>\n",
       "      <td>overall</td>\n",
       "      <td>True</td>\n",
       "      <td>Chinese medical workers have been working day ...</td>\n",
       "      <td>positive</td>\n",
       "    </tr>\n",
       "    <tr>\n",
       "      <th>4319</th>\n",
       "      <td>1.229190e+18</td>\n",
       "      <td>overall</td>\n",
       "      <td>True</td>\n",
       "      <td>@RT_com That’s good, for a rich economy like C...</td>\n",
       "      <td>positive</td>\n",
       "    </tr>\n",
       "    <tr>\n",
       "      <th>4343</th>\n",
       "      <td>1.223648e+18</td>\n",
       "      <td>measures</td>\n",
       "      <td>True</td>\n",
       "      <td>Today I've seen a vid about a baby infected wi...</td>\n",
       "      <td>positive</td>\n",
       "    </tr>\n",
       "    <tr>\n",
       "      <th>4351</th>\n",
       "      <td>1.223648e+18</td>\n",
       "      <td>overall</td>\n",
       "      <td>True</td>\n",
       "      <td>Today I've seen a vid about a baby infected wi...</td>\n",
       "      <td>positive</td>\n",
       "    </tr>\n",
       "    <tr>\n",
       "      <th>4383</th>\n",
       "      <td>1.245183e+18</td>\n",
       "      <td>overall</td>\n",
       "      <td>True</td>\n",
       "      <td>@Magda_Skipper @NatureNews When China still we...</td>\n",
       "      <td>positive</td>\n",
       "    </tr>\n",
       "    <tr>\n",
       "      <th>4671</th>\n",
       "      <td>1.226234e+18</td>\n",
       "      <td>overall</td>\n",
       "      <td>True</td>\n",
       "      <td>Inter will wear special patches on their kit t...</td>\n",
       "      <td>positive</td>\n",
       "    </tr>\n",
       "    <tr>\n",
       "      <th>5559</th>\n",
       "      <td>1.229190e+18</td>\n",
       "      <td>measures</td>\n",
       "      <td>True</td>\n",
       "      <td>South China's Guangdong province has introduce...</td>\n",
       "      <td>positive</td>\n",
       "    </tr>\n",
       "    <tr>\n",
       "      <th>5567</th>\n",
       "      <td>1.229190e+18</td>\n",
       "      <td>overall</td>\n",
       "      <td>True</td>\n",
       "      <td>South China's Guangdong province has introduce...</td>\n",
       "      <td>positive</td>\n",
       "    </tr>\n",
       "    <tr>\n",
       "      <th>5723</th>\n",
       "      <td>1.228589e+18</td>\n",
       "      <td>racism</td>\n",
       "      <td>True</td>\n",
       "      <td>@sanverde I booked Norwegian Cruise together w...</td>\n",
       "      <td>positive</td>\n",
       "    </tr>\n",
       "    <tr>\n",
       "      <th>5727</th>\n",
       "      <td>1.228589e+18</td>\n",
       "      <td>overall</td>\n",
       "      <td>True</td>\n",
       "      <td>@sanverde I booked Norwegian Cruise together w...</td>\n",
       "      <td>positive</td>\n",
       "    </tr>\n",
       "    <tr>\n",
       "      <th>5983</th>\n",
       "      <td>1.229180e+18</td>\n",
       "      <td>overall</td>\n",
       "      <td>True</td>\n",
       "      <td>A civil plane loaded with masks, is flying fro...</td>\n",
       "      <td>positive</td>\n",
       "    </tr>\n",
       "    <tr>\n",
       "      <th>6023</th>\n",
       "      <td>1.227018e+18</td>\n",
       "      <td>economy</td>\n",
       "      <td>True</td>\n",
       "      <td>China's employment rate is among the highest i...</td>\n",
       "      <td>positive</td>\n",
       "    </tr>\n",
       "    <tr>\n",
       "      <th>6047</th>\n",
       "      <td>1.227018e+18</td>\n",
       "      <td>overall</td>\n",
       "      <td>True</td>\n",
       "      <td>China's employment rate is among the highest i...</td>\n",
       "      <td>positive</td>\n",
       "    </tr>\n",
       "    <tr>\n",
       "      <th>6079</th>\n",
       "      <td>1.231263e+18</td>\n",
       "      <td>overall</td>\n",
       "      <td>True</td>\n",
       "      <td>1/3: Last night, Melbourne lit up its streets ...</td>\n",
       "      <td>positive</td>\n",
       "    </tr>\n",
       "    <tr>\n",
       "      <th>7383</th>\n",
       "      <td>1.234306e+18</td>\n",
       "      <td>measures</td>\n",
       "      <td>True</td>\n",
       "      <td>@rachel_maria65 @VP I've been screaming about ...</td>\n",
       "      <td>positive</td>\n",
       "    </tr>\n",
       "    <tr>\n",
       "      <th>7775</th>\n",
       "      <td>1.229313e+18</td>\n",
       "      <td>overall</td>\n",
       "      <td>True</td>\n",
       "      <td>Meet Lao Mao (aka “Old Cat”) the hero rescuing...</td>\n",
       "      <td>positive</td>\n",
       "    </tr>\n",
       "    <tr>\n",
       "      <th>8415</th>\n",
       "      <td>1.230195e+18</td>\n",
       "      <td>overall</td>\n",
       "      <td>True</td>\n",
       "      <td>[T] 200209 Mark’s Weibo Update   “Everyone has...</td>\n",
       "      <td>positive</td>\n",
       "    </tr>\n",
       "  </tbody>\n",
       "</table>\n",
       "</div>"
      ],
      "text/plain": [
       "                id       asp   tag  \\\n",
       "287   1.229724e+18   overall  True   \n",
       "2555  1.225340e+18    racism  True   \n",
       "2559  1.225340e+18   overall  True   \n",
       "2583  1.238312e+18  measures  True   \n",
       "2591  1.238312e+18   overall  True   \n",
       "3039  1.223188e+18   overall  True   \n",
       "3063  1.225313e+18  measures  True   \n",
       "3071  1.225313e+18   overall  True   \n",
       "4055  1.225186e+18  measures  True   \n",
       "4063  1.225186e+18   overall  True   \n",
       "4319  1.229190e+18   overall  True   \n",
       "4343  1.223648e+18  measures  True   \n",
       "4351  1.223648e+18   overall  True   \n",
       "4383  1.245183e+18   overall  True   \n",
       "4671  1.226234e+18   overall  True   \n",
       "5559  1.229190e+18  measures  True   \n",
       "5567  1.229190e+18   overall  True   \n",
       "5723  1.228589e+18    racism  True   \n",
       "5727  1.228589e+18   overall  True   \n",
       "5983  1.229180e+18   overall  True   \n",
       "6023  1.227018e+18   economy  True   \n",
       "6047  1.227018e+18   overall  True   \n",
       "6079  1.231263e+18   overall  True   \n",
       "7383  1.234306e+18  measures  True   \n",
       "7775  1.229313e+18   overall  True   \n",
       "8415  1.230195e+18   overall  True   \n",
       "\n",
       "                                                   text sentiment  \n",
       "287   Not all heroes wear Capes. Some wear Masks and...  positive  \n",
       "2555  Coronavirus  Astounding piece of anti-Chinese ...  positive  \n",
       "2559  Coronavirus  Astounding piece of anti-Chinese ...  positive  \n",
       "2583  Interferon Alpha 2B: The Cuban drug used in Ch...  positive  \n",
       "2591  Interferon Alpha 2B: The Cuban drug used in Ch...  positive  \n",
       "3039  Coronavirus updates:  - More than 800 people h...  positive  \n",
       "3063  If Indians receive requests from their friends...  positive  \n",
       "3071  If Indians receive requests from their friends...  positive  \n",
       "4055  Chinese medical workers have been working day ...  positive  \n",
       "4063  Chinese medical workers have been working day ...  positive  \n",
       "4319  @RT_com That’s good, for a rich economy like C...  positive  \n",
       "4343  Today I've seen a vid about a baby infected wi...  positive  \n",
       "4351  Today I've seen a vid about a baby infected wi...  positive  \n",
       "4383  @Magda_Skipper @NatureNews When China still we...  positive  \n",
       "4671  Inter will wear special patches on their kit t...  positive  \n",
       "5559  South China's Guangdong province has introduce...  positive  \n",
       "5567  South China's Guangdong province has introduce...  positive  \n",
       "5723  @sanverde I booked Norwegian Cruise together w...  positive  \n",
       "5727  @sanverde I booked Norwegian Cruise together w...  positive  \n",
       "5983  A civil plane loaded with masks, is flying fro...  positive  \n",
       "6023  China's employment rate is among the highest i...  positive  \n",
       "6047  China's employment rate is among the highest i...  positive  \n",
       "6079  1/3: Last night, Melbourne lit up its streets ...  positive  \n",
       "7383  @rachel_maria65 @VP I've been screaming about ...  positive  \n",
       "7775  Meet Lao Mao (aka “Old Cat”) the hero rescuing...  positive  \n",
       "8415  [T] 200209 Mark’s Weibo Update   “Everyone has...  positive  "
      ]
     },
     "execution_count": 131,
     "metadata": {},
     "output_type": "execute_result"
    }
   ],
   "source": [
    "df_"
   ]
  },
  {
   "cell_type": "code",
   "execution_count": 129,
   "metadata": {
    "ExecuteTime": {
     "end_time": "2021-12-11T00:06:59.926873Z",
     "start_time": "2021-12-11T00:06:59.909615Z"
    }
   },
   "outputs": [
    {
     "ename": "ValueError",
     "evalue": "cannot set a row with mismatched columns",
     "output_type": "error",
     "traceback": [
      "\u001b[0;31m------------------------------------------------------------\u001b[0m",
      "\u001b[0;31mValueError\u001b[0m                 Traceback (most recent call last)",
      "\u001b[0;32m<ipython-input-129-365530cda64b>\u001b[0m in \u001b[0;36m<module>\u001b[0;34m\u001b[0m\n\u001b[0;32m----> 1\u001b[0;31m \u001b[0mdf_\u001b[0m\u001b[0;34m.\u001b[0m\u001b[0mloc\u001b[0m\u001b[0;34m[\u001b[0m\u001b[0;34m'sentiment'\u001b[0m\u001b[0;34m]\u001b[0m\u001b[0;34m=\u001b[0m\u001b[0mnp_\u001b[0m\u001b[0;34m\u001b[0m\u001b[0;34m\u001b[0m\u001b[0m\n\u001b[0m",
      "\u001b[0;32m~/anaconda3/lib/python3.7/site-packages/pandas/core/indexing.py\u001b[0m in \u001b[0;36m__setitem__\u001b[0;34m(self, key, value)\u001b[0m\n\u001b[1;32m    690\u001b[0m \u001b[0;34m\u001b[0m\u001b[0m\n\u001b[1;32m    691\u001b[0m         \u001b[0miloc\u001b[0m \u001b[0;34m=\u001b[0m \u001b[0mself\u001b[0m \u001b[0;32mif\u001b[0m \u001b[0mself\u001b[0m\u001b[0;34m.\u001b[0m\u001b[0mname\u001b[0m \u001b[0;34m==\u001b[0m \u001b[0;34m\"iloc\"\u001b[0m \u001b[0;32melse\u001b[0m \u001b[0mself\u001b[0m\u001b[0;34m.\u001b[0m\u001b[0mobj\u001b[0m\u001b[0;34m.\u001b[0m\u001b[0miloc\u001b[0m\u001b[0;34m\u001b[0m\u001b[0;34m\u001b[0m\u001b[0m\n\u001b[0;32m--> 692\u001b[0;31m         \u001b[0miloc\u001b[0m\u001b[0;34m.\u001b[0m\u001b[0m_setitem_with_indexer\u001b[0m\u001b[0;34m(\u001b[0m\u001b[0mindexer\u001b[0m\u001b[0;34m,\u001b[0m \u001b[0mvalue\u001b[0m\u001b[0;34m,\u001b[0m \u001b[0mself\u001b[0m\u001b[0;34m.\u001b[0m\u001b[0mname\u001b[0m\u001b[0;34m)\u001b[0m\u001b[0;34m\u001b[0m\u001b[0;34m\u001b[0m\u001b[0m\n\u001b[0m\u001b[1;32m    693\u001b[0m \u001b[0;34m\u001b[0m\u001b[0m\n\u001b[1;32m    694\u001b[0m     \u001b[0;32mdef\u001b[0m \u001b[0m_validate_key\u001b[0m\u001b[0;34m(\u001b[0m\u001b[0mself\u001b[0m\u001b[0;34m,\u001b[0m \u001b[0mkey\u001b[0m\u001b[0;34m,\u001b[0m \u001b[0maxis\u001b[0m\u001b[0;34m:\u001b[0m \u001b[0mint\u001b[0m\u001b[0;34m)\u001b[0m\u001b[0;34m:\u001b[0m\u001b[0;34m\u001b[0m\u001b[0;34m\u001b[0m\u001b[0m\n",
      "\u001b[0;32m~/anaconda3/lib/python3.7/site-packages/pandas/core/indexing.py\u001b[0m in \u001b[0;36m_setitem_with_indexer\u001b[0;34m(self, indexer, value, name)\u001b[0m\n\u001b[1;32m   1627\u001b[0m \u001b[0;34m\u001b[0m\u001b[0m\n\u001b[1;32m   1628\u001b[0m             \u001b[0;32mif\u001b[0m \u001b[0mmissing\u001b[0m\u001b[0;34m:\u001b[0m\u001b[0;34m\u001b[0m\u001b[0;34m\u001b[0m\u001b[0m\n\u001b[0;32m-> 1629\u001b[0;31m                 \u001b[0mself\u001b[0m\u001b[0;34m.\u001b[0m\u001b[0m_setitem_with_indexer_missing\u001b[0m\u001b[0;34m(\u001b[0m\u001b[0mindexer\u001b[0m\u001b[0;34m,\u001b[0m \u001b[0mvalue\u001b[0m\u001b[0;34m)\u001b[0m\u001b[0;34m\u001b[0m\u001b[0;34m\u001b[0m\u001b[0m\n\u001b[0m\u001b[1;32m   1630\u001b[0m                 \u001b[0;32mreturn\u001b[0m\u001b[0;34m\u001b[0m\u001b[0;34m\u001b[0m\u001b[0m\n\u001b[1;32m   1631\u001b[0m \u001b[0;34m\u001b[0m\u001b[0m\n",
      "\u001b[0;32m~/anaconda3/lib/python3.7/site-packages/pandas/core/indexing.py\u001b[0m in \u001b[0;36m_setitem_with_indexer_missing\u001b[0;34m(self, indexer, value)\u001b[0m\n\u001b[1;32m   1916\u001b[0m                     \u001b[0;31m# must have conforming columns\u001b[0m\u001b[0;34m\u001b[0m\u001b[0;34m\u001b[0m\u001b[0;34m\u001b[0m\u001b[0m\n\u001b[1;32m   1917\u001b[0m                     \u001b[0;32mif\u001b[0m \u001b[0mlen\u001b[0m\u001b[0;34m(\u001b[0m\u001b[0mvalue\u001b[0m\u001b[0;34m)\u001b[0m \u001b[0;34m!=\u001b[0m \u001b[0mlen\u001b[0m\u001b[0;34m(\u001b[0m\u001b[0mself\u001b[0m\u001b[0;34m.\u001b[0m\u001b[0mobj\u001b[0m\u001b[0;34m.\u001b[0m\u001b[0mcolumns\u001b[0m\u001b[0;34m)\u001b[0m\u001b[0;34m:\u001b[0m\u001b[0;34m\u001b[0m\u001b[0;34m\u001b[0m\u001b[0m\n\u001b[0;32m-> 1918\u001b[0;31m                         \u001b[0;32mraise\u001b[0m \u001b[0mValueError\u001b[0m\u001b[0;34m(\u001b[0m\u001b[0;34m\"cannot set a row with mismatched columns\"\u001b[0m\u001b[0;34m)\u001b[0m\u001b[0;34m\u001b[0m\u001b[0;34m\u001b[0m\u001b[0m\n\u001b[0m\u001b[1;32m   1919\u001b[0m \u001b[0;34m\u001b[0m\u001b[0m\n\u001b[1;32m   1920\u001b[0m                 \u001b[0mvalue\u001b[0m \u001b[0;34m=\u001b[0m \u001b[0mSeries\u001b[0m\u001b[0;34m(\u001b[0m\u001b[0mvalue\u001b[0m\u001b[0;34m,\u001b[0m \u001b[0mindex\u001b[0m\u001b[0;34m=\u001b[0m\u001b[0mself\u001b[0m\u001b[0;34m.\u001b[0m\u001b[0mobj\u001b[0m\u001b[0;34m.\u001b[0m\u001b[0mcolumns\u001b[0m\u001b[0;34m,\u001b[0m \u001b[0mname\u001b[0m\u001b[0;34m=\u001b[0m\u001b[0mindexer\u001b[0m\u001b[0;34m)\u001b[0m\u001b[0;34m\u001b[0m\u001b[0;34m\u001b[0m\u001b[0m\n",
      "\u001b[0;31mValueError\u001b[0m: cannot set a row with mismatched columns"
     ]
    }
   ],
   "source": [
    "df_.loc['sentiment']=np_"
   ]
  },
  {
   "cell_type": "code",
   "execution_count": 107,
   "metadata": {
    "ExecuteTime": {
     "end_time": "2021-12-10T23:58:35.360730Z",
     "start_time": "2021-12-10T23:58:35.350763Z"
    }
   },
   "outputs": [
    {
     "data": {
      "text/plain": [
       "(415, 1713)"
      ]
     },
     "execution_count": 107,
     "metadata": {},
     "output_type": "execute_result"
    }
   ],
   "source": [
    "lst.count(False),lst.count(True)"
   ]
  },
  {
   "cell_type": "code",
   "execution_count": 95,
   "metadata": {
    "ExecuteTime": {
     "end_time": "2021-12-10T23:52:06.864747Z",
     "start_time": "2021-12-10T23:52:06.856562Z"
    }
   },
   "outputs": [
    {
     "data": {
      "text/plain": [
       "0    None\n",
       "3    True\n",
       "Name: tag, dtype: object"
      ]
     },
     "execution_count": 95,
     "metadata": {},
     "output_type": "execute_result"
    }
   ],
   "source": [
    "df['tag'].drop_duplicates()"
   ]
  },
  {
   "cell_type": "code",
   "execution_count": 86,
   "metadata": {
    "ExecuteTime": {
     "end_time": "2021-12-10T23:20:14.200775Z",
     "start_time": "2021-12-10T23:20:14.164015Z"
    }
   },
   "outputs": [
    {
     "name": "stdout",
     "output_type": "stream",
     "text": [
      "Aspect:politics   Samples: 1064   Correct:  987 Accuracy:92.7632\n",
      "Aspect:economy    Samples: 1064   Correct: 1056 Accuracy:99.2481\n",
      "Aspect:foreign    Samples: 1064   Correct: 1028 Accuracy:96.6165\n",
      "Aspect:culture    Samples: 1064   Correct: 1062 Accuracy:99.812\n",
      "Aspect:situation  Samples: 1064   Correct:  981 Accuracy:92.1992\n",
      "Aspect:measures   Samples: 1064   Correct: 1022 Accuracy:96.0526\n",
      "Aspect:racism     Samples: 1064   Correct: 1016 Accuracy:95.4887\n",
      "Aspect:overall    Samples: 1064   Correct:  798 Accuracy:75.0\n"
     ]
    }
   ],
   "source": [
    "for aspect in aspects:\n",
    "    in_aspect = df[df['asp']==aspect]\n",
    "    correct = in_aspect['correct'].sum()\n",
    "    accuracy = round(100*(correct/len(in_aspect)),4)\n",
    "    print(f\"Aspect:{aspect:10} Samples:{len(in_aspect):5}   Correct:{correct:5} Accuracy:{accuracy}\")\n",
    "    "
   ]
  },
  {
   "cell_type": "code",
   "execution_count": null,
   "metadata": {},
   "outputs": [],
   "source": [
    "d"
   ]
  },
  {
   "cell_type": "code",
   "execution_count": 69,
   "metadata": {
    "ExecuteTime": {
     "end_time": "2021-12-10T23:12:46.064122Z",
     "start_time": "2021-12-10T23:12:46.047407Z"
    }
   },
   "outputs": [
    {
     "ename": "AttributeError",
     "evalue": "'Series' object has no attribute 'split'",
     "output_type": "error",
     "traceback": [
      "\u001b[0;31m------------------------------------------------------------\u001b[0m",
      "\u001b[0;31mAttributeError\u001b[0m             Traceback (most recent call last)",
      "\u001b[0;32m<ipython-input-69-280412a3332a>\u001b[0m in \u001b[0;36m<module>\u001b[0;34m\u001b[0m\n\u001b[1;32m      1\u001b[0m \u001b[0;32mfor\u001b[0m \u001b[0maspect\u001b[0m \u001b[0;32min\u001b[0m \u001b[0maspects\u001b[0m\u001b[0;34m:\u001b[0m\u001b[0;34m\u001b[0m\u001b[0;34m\u001b[0m\u001b[0m\n\u001b[0;32m----> 2\u001b[0;31m     \u001b[0mcorrects\u001b[0m \u001b[0;34m=\u001b[0m \u001b[0mdf\u001b[0m\u001b[0;34m[\u001b[0m\u001b[0mdf\u001b[0m\u001b[0;34m[\u001b[0m\u001b[0;34m'aspect'\u001b[0m\u001b[0;34m]\u001b[0m\u001b[0;34m.\u001b[0m\u001b[0msplit\u001b[0m\u001b[0;34m(\u001b[0m\u001b[0;34m'-'\u001b[0m\u001b[0;34m)\u001b[0m\u001b[0;34m[\u001b[0m\u001b[0;36m1\u001b[0m\u001b[0;34m]\u001b[0m\u001b[0;34m.\u001b[0m\u001b[0mstrip\u001b[0m\u001b[0;34m(\u001b[0m\u001b[0;34m)\u001b[0m \u001b[0;34m==\u001b[0m \u001b[0maspect\u001b[0m\u001b[0;34m]\u001b[0m\u001b[0;34m[\u001b[0m\u001b[0;34m'df_correct'\u001b[0m\u001b[0;34m]\u001b[0m\u001b[0;34m.\u001b[0m\u001b[0msum\u001b[0m\u001b[0;34m(\u001b[0m\u001b[0;34m)\u001b[0m\u001b[0;34m\u001b[0m\u001b[0;34m\u001b[0m\u001b[0m\n\u001b[0m",
      "\u001b[0;32m~/anaconda3/lib/python3.7/site-packages/pandas/core/generic.py\u001b[0m in \u001b[0;36m__getattr__\u001b[0;34m(self, name)\u001b[0m\n\u001b[1;32m   5463\u001b[0m             \u001b[0;32mif\u001b[0m \u001b[0mself\u001b[0m\u001b[0;34m.\u001b[0m\u001b[0m_info_axis\u001b[0m\u001b[0;34m.\u001b[0m\u001b[0m_can_hold_identifiers_and_holds_name\u001b[0m\u001b[0;34m(\u001b[0m\u001b[0mname\u001b[0m\u001b[0;34m)\u001b[0m\u001b[0;34m:\u001b[0m\u001b[0;34m\u001b[0m\u001b[0;34m\u001b[0m\u001b[0m\n\u001b[1;32m   5464\u001b[0m                 \u001b[0;32mreturn\u001b[0m \u001b[0mself\u001b[0m\u001b[0;34m[\u001b[0m\u001b[0mname\u001b[0m\u001b[0;34m]\u001b[0m\u001b[0;34m\u001b[0m\u001b[0;34m\u001b[0m\u001b[0m\n\u001b[0;32m-> 5465\u001b[0;31m             \u001b[0;32mreturn\u001b[0m \u001b[0mobject\u001b[0m\u001b[0;34m.\u001b[0m\u001b[0m__getattribute__\u001b[0m\u001b[0;34m(\u001b[0m\u001b[0mself\u001b[0m\u001b[0;34m,\u001b[0m \u001b[0mname\u001b[0m\u001b[0;34m)\u001b[0m\u001b[0;34m\u001b[0m\u001b[0;34m\u001b[0m\u001b[0m\n\u001b[0m\u001b[1;32m   5466\u001b[0m \u001b[0;34m\u001b[0m\u001b[0m\n\u001b[1;32m   5467\u001b[0m     \u001b[0;32mdef\u001b[0m \u001b[0m__setattr__\u001b[0m\u001b[0;34m(\u001b[0m\u001b[0mself\u001b[0m\u001b[0;34m,\u001b[0m \u001b[0mname\u001b[0m\u001b[0;34m:\u001b[0m \u001b[0mstr\u001b[0m\u001b[0;34m,\u001b[0m \u001b[0mvalue\u001b[0m\u001b[0;34m)\u001b[0m \u001b[0;34m->\u001b[0m \u001b[0;32mNone\u001b[0m\u001b[0;34m:\u001b[0m\u001b[0;34m\u001b[0m\u001b[0;34m\u001b[0m\u001b[0m\n",
      "\u001b[0;31mAttributeError\u001b[0m: 'Series' object has no attribute 'split'"
     ]
    }
   ],
   "source": [
    "df[df['aspect']]"
   ]
  },
  {
   "cell_type": "code",
   "execution_count": null,
   "metadata": {},
   "outputs": [],
   "source": []
  },
  {
   "cell_type": "code",
   "execution_count": null,
   "metadata": {},
   "outputs": [],
   "source": []
  },
  {
   "cell_type": "code",
   "execution_count": null,
   "metadata": {},
   "outputs": [],
   "source": []
  },
  {
   "cell_type": "code",
   "execution_count": null,
   "metadata": {},
   "outputs": [],
   "source": []
  },
  {
   "cell_type": "code",
   "execution_count": null,
   "metadata": {},
   "outputs": [],
   "source": []
  },
  {
   "cell_type": "code",
   "execution_count": null,
   "metadata": {},
   "outputs": [],
   "source": []
  }
 ],
 "metadata": {
  "kernelspec": {
   "display_name": "Python 3",
   "language": "python",
   "name": "python3"
  },
  "language_info": {
   "codemirror_mode": {
    "name": "ipython",
    "version": 3
   },
   "file_extension": ".py",
   "mimetype": "text/x-python",
   "name": "python",
   "nbconvert_exporter": "python",
   "pygments_lexer": "ipython3",
   "version": "3.7.5"
  }
 },
 "nbformat": 4,
 "nbformat_minor": 2
}
